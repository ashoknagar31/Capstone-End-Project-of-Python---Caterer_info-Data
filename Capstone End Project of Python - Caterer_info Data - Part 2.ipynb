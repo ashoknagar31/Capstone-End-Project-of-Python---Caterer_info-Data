{
 "cells": [
  {
   "cell_type": "code",
   "execution_count": 1,
   "id": "3f152c10",
   "metadata": {},
   "outputs": [
    {
     "name": "stdout",
     "output_type": "stream",
     "text": [
      "First few rows of the DataFrame:\n"
     ]
    },
    {
     "data": {
      "text/html": [
       "<div>\n",
       "<style scoped>\n",
       "    .dataframe tbody tr th:only-of-type {\n",
       "        vertical-align: middle;\n",
       "    }\n",
       "\n",
       "    .dataframe tbody tr th {\n",
       "        vertical-align: top;\n",
       "    }\n",
       "\n",
       "    .dataframe thead th {\n",
       "        text-align: right;\n",
       "    }\n",
       "</style>\n",
       "<table border=\"1\" class=\"dataframe\">\n",
       "  <thead>\n",
       "    <tr style=\"text-align: right;\">\n",
       "      <th></th>\n",
       "      <th>Unnamed: 0</th>\n",
       "      <th>Plate Cost</th>\n",
       "      <th>Decoration Price</th>\n",
       "      <th>Rating</th>\n",
       "      <th>Caterer Name</th>\n",
       "    </tr>\n",
       "  </thead>\n",
       "  <tbody>\n",
       "    <tr>\n",
       "      <th>0</th>\n",
       "      <td>0</td>\n",
       "      <td>280</td>\n",
       "      <td>5000</td>\n",
       "      <td>2.4</td>\n",
       "      <td>a</td>\n",
       "    </tr>\n",
       "    <tr>\n",
       "      <th>1</th>\n",
       "      <td>1</td>\n",
       "      <td>420</td>\n",
       "      <td>4300</td>\n",
       "      <td>3.8</td>\n",
       "      <td>b</td>\n",
       "    </tr>\n",
       "    <tr>\n",
       "      <th>2</th>\n",
       "      <td>2</td>\n",
       "      <td>390</td>\n",
       "      <td>5900</td>\n",
       "      <td>3.1</td>\n",
       "      <td>c</td>\n",
       "    </tr>\n",
       "    <tr>\n",
       "      <th>3</th>\n",
       "      <td>3</td>\n",
       "      <td>420</td>\n",
       "      <td>6900</td>\n",
       "      <td>4.6</td>\n",
       "      <td>d</td>\n",
       "    </tr>\n",
       "    <tr>\n",
       "      <th>4</th>\n",
       "      <td>4</td>\n",
       "      <td>280</td>\n",
       "      <td>6500</td>\n",
       "      <td>2.3</td>\n",
       "      <td>e</td>\n",
       "    </tr>\n",
       "  </tbody>\n",
       "</table>\n",
       "</div>"
      ],
      "text/plain": [
       "   Unnamed: 0  Plate Cost  Decoration Price  Rating Caterer Name\n",
       "0           0         280              5000     2.4            a\n",
       "1           1         420              4300     3.8            b\n",
       "2           2         390              5900     3.1            c\n",
       "3           3         420              6900     4.6            d\n",
       "4           4         280              6500     2.3            e"
      ]
     },
     "execution_count": 1,
     "metadata": {},
     "output_type": "execute_result"
    }
   ],
   "source": [
    "# 1. Read the CSV File and Display the First Few Rows:\n",
    "# Load the data from 'Caterer_info.csv' into the DataFrame df2 and display the first few rows to understand the dataset's structure.\n",
    "import pandas as pd\n",
    "import numpy as np\n",
    "import matplotlib.pyplot as plt\n",
    "import seaborn as sns\n",
    "df = pd.read_csv(r'C:\\Users\\ASHOK\\Downloads\\Caterer_info.csv')\n",
    "print(\"First few rows of the DataFrame:\")\n",
    "df.head()"
   ]
  },
  {
   "cell_type": "code",
   "execution_count": 2,
   "id": "7cdd2e0f",
   "metadata": {},
   "outputs": [
    {
     "name": "stdout",
     "output_type": "stream",
     "text": [
      "Data types and missing values:\n",
      "<class 'pandas.core.frame.DataFrame'>\n",
      "RangeIndex: 20 entries, 0 to 19\n",
      "Data columns (total 5 columns):\n",
      " #   Column            Non-Null Count  Dtype  \n",
      "---  ------            --------------  -----  \n",
      " 0   Unnamed: 0        20 non-null     int64  \n",
      " 1   Plate Cost        20 non-null     int64  \n",
      " 2   Decoration Price  20 non-null     int64  \n",
      " 3   Rating            20 non-null     float64\n",
      " 4   Caterer Name      20 non-null     object \n",
      "dtypes: float64(1), int64(3), object(1)\n",
      "memory usage: 932.0+ bytes\n"
     ]
    }
   ],
   "source": [
    "# 2. Check Data Types and Missing Values:\n",
    "# Identify the data types of each column and check for any missing values in the dataset.\n",
    "print(\"Data types and missing values:\")\n",
    "df.info()"
   ]
  },
  {
   "cell_type": "code",
   "execution_count": 3,
   "id": "56721a1a",
   "metadata": {},
   "outputs": [
    {
     "name": "stdout",
     "output_type": "stream",
     "text": [
      "Summary statistics for numeric columns:\n"
     ]
    },
    {
     "data": {
      "text/html": [
       "<div>\n",
       "<style scoped>\n",
       "    .dataframe tbody tr th:only-of-type {\n",
       "        vertical-align: middle;\n",
       "    }\n",
       "\n",
       "    .dataframe tbody tr th {\n",
       "        vertical-align: top;\n",
       "    }\n",
       "\n",
       "    .dataframe thead th {\n",
       "        text-align: right;\n",
       "    }\n",
       "</style>\n",
       "<table border=\"1\" class=\"dataframe\">\n",
       "  <thead>\n",
       "    <tr style=\"text-align: right;\">\n",
       "      <th></th>\n",
       "      <th>Unnamed: 0</th>\n",
       "      <th>Plate Cost</th>\n",
       "      <th>Decoration Price</th>\n",
       "      <th>Rating</th>\n",
       "    </tr>\n",
       "  </thead>\n",
       "  <tbody>\n",
       "    <tr>\n",
       "      <th>count</th>\n",
       "      <td>20.00000</td>\n",
       "      <td>20.000000</td>\n",
       "      <td>20.000000</td>\n",
       "      <td>20.000000</td>\n",
       "    </tr>\n",
       "    <tr>\n",
       "      <th>mean</th>\n",
       "      <td>9.50000</td>\n",
       "      <td>374.000000</td>\n",
       "      <td>5430.000000</td>\n",
       "      <td>3.475000</td>\n",
       "    </tr>\n",
       "    <tr>\n",
       "      <th>std</th>\n",
       "      <td>5.91608</td>\n",
       "      <td>74.861275</td>\n",
       "      <td>918.866579</td>\n",
       "      <td>0.741176</td>\n",
       "    </tr>\n",
       "    <tr>\n",
       "      <th>min</th>\n",
       "      <td>0.00000</td>\n",
       "      <td>250.000000</td>\n",
       "      <td>4200.000000</td>\n",
       "      <td>2.300000</td>\n",
       "    </tr>\n",
       "    <tr>\n",
       "      <th>25%</th>\n",
       "      <td>4.75000</td>\n",
       "      <td>317.500000</td>\n",
       "      <td>4775.000000</td>\n",
       "      <td>3.100000</td>\n",
       "    </tr>\n",
       "    <tr>\n",
       "      <th>50%</th>\n",
       "      <td>9.50000</td>\n",
       "      <td>375.000000</td>\n",
       "      <td>5200.000000</td>\n",
       "      <td>3.550000</td>\n",
       "    </tr>\n",
       "    <tr>\n",
       "      <th>75%</th>\n",
       "      <td>14.25000</td>\n",
       "      <td>420.000000</td>\n",
       "      <td>6050.000000</td>\n",
       "      <td>4.000000</td>\n",
       "    </tr>\n",
       "    <tr>\n",
       "      <th>max</th>\n",
       "      <td>19.00000</td>\n",
       "      <td>500.000000</td>\n",
       "      <td>7000.000000</td>\n",
       "      <td>4.800000</td>\n",
       "    </tr>\n",
       "  </tbody>\n",
       "</table>\n",
       "</div>"
      ],
      "text/plain": [
       "       Unnamed: 0  Plate Cost  Decoration Price     Rating\n",
       "count    20.00000   20.000000         20.000000  20.000000\n",
       "mean      9.50000  374.000000       5430.000000   3.475000\n",
       "std       5.91608   74.861275        918.866579   0.741176\n",
       "min       0.00000  250.000000       4200.000000   2.300000\n",
       "25%       4.75000  317.500000       4775.000000   3.100000\n",
       "50%       9.50000  375.000000       5200.000000   3.550000\n",
       "75%      14.25000  420.000000       6050.000000   4.000000\n",
       "max      19.00000  500.000000       7000.000000   4.800000"
      ]
     },
     "execution_count": 3,
     "metadata": {},
     "output_type": "execute_result"
    }
   ],
   "source": [
    "# 3. Get Summary Statistics for Numeric Columns:\n",
    "# Compute and Display summary statistics (mean, standard deviation, minimum, maximum, etc.) for the numeric columns in the DataFrame\n",
    "print(\"Summary statistics for numeric columns:\")\n",
    "df.describe()"
   ]
  },
  {
   "cell_type": "code",
   "execution_count": 4,
   "id": "6c2521e9",
   "metadata": {},
   "outputs": [
    {
     "name": "stdout",
     "output_type": "stream",
     "text": [
      "Number of unique values in each column:\n"
     ]
    },
    {
     "data": {
      "text/plain": [
       "Unnamed: 0          20\n",
       "Plate Cost          14\n",
       "Decoration Price    13\n",
       "Rating              12\n",
       "Caterer Name        20\n",
       "dtype: int64"
      ]
     },
     "execution_count": 4,
     "metadata": {},
     "output_type": "execute_result"
    }
   ],
   "source": [
    "# 4. Count Unique Values in Each Column:\n",
    "# Understand the cardinality of unique values in each column.\n",
    "print(\"Number of unique values in each column:\")\n",
    "df.nunique()"
   ]
  },
  {
   "cell_type": "code",
   "execution_count": 5,
   "id": "7fff0598",
   "metadata": {},
   "outputs": [
    {
     "name": "stdout",
     "output_type": "stream",
     "text": [
      "\n",
      "Check unique values in Unnamed: 0 column:\n",
      "[ 0  1  2  3  4  5  6  7  8  9 10 11 12 13 14 15 16 17 18 19]\n",
      "\n",
      "Check unique values in Plate Cost column:\n",
      "[280 420 390 360 250 370 400 380 440 490 320 480 500 310]\n",
      "\n",
      "Check unique values in Decoration Price column:\n",
      "[5000 4300 5900 6900 6500 7000 4200 4800 5800 5600 4700 4900 5400]\n",
      "\n",
      "Check unique values in Rating column:\n",
      "[2.4 3.8 3.1 4.6 2.3 3.3 3.4 4.  4.3 3.2 4.8 3.7]\n",
      "\n",
      "Check unique values in Caterer Name column:\n",
      "['a' 'b' 'c' 'd' 'e' 'f' 'g' 'h' 'i' 'j' 'k' 'l' 'm' 'n' 'o' 'p' 'q' 'r'\n",
      " 's' 't']\n"
     ]
    }
   ],
   "source": [
    "# 5. Check Unique Values in Each Column:\n",
    "# Check for missing values in each column of the DataFrame and display the count of missing values.\n",
    "for i in df.columns:\n",
    "  print(f\"\\nCheck unique values in {i} column:\")\n",
    "  print(df[i].unique())"
   ]
  },
  {
   "cell_type": "code",
   "execution_count": 6,
   "id": "a2b52b94",
   "metadata": {},
   "outputs": [
    {
     "name": "stdout",
     "output_type": "stream",
     "text": [
      "Missing values count in each column:\n",
      "Unnamed: 0          0\n",
      "Plate Cost          0\n",
      "Decoration Price    0\n",
      "Rating              0\n",
      "Caterer Name        0\n",
      "dtype: int64\n",
      "\n",
      "Missing values percentage in each column with:\n",
      "Unnamed: 0          0.0\n",
      "Plate Cost          0.0\n",
      "Decoration Price    0.0\n",
      "Rating              0.0\n",
      "Caterer Name        0.0\n",
      "dtype: float64\n"
     ]
    }
   ],
   "source": [
    "print(\"Missing values count in each column:\")\n",
    "print(df.isnull().sum())\n",
    "print()\n",
    "print('Missing values percentage in each column with:')\n",
    "print(df.isnull().sum() *100/df.shape[0])"
   ]
  },
  {
   "cell_type": "code",
   "execution_count": 7,
   "id": "14aaf304",
   "metadata": {},
   "outputs": [
    {
     "name": "stdout",
     "output_type": "stream",
     "text": [
      "Duplicate values count in the Dataframe:\n"
     ]
    },
    {
     "data": {
      "text/plain": [
       "0"
      ]
     },
     "execution_count": 7,
     "metadata": {},
     "output_type": "execute_result"
    }
   ],
   "source": [
    "# 6. Check for Missing Values:\n",
    "# Check for duplicate rows in the DataFrame and display the count of duplicated values.\n",
    "print(\"Duplicate values count in the Dataframe:\")\n",
    "df.duplicated().sum()"
   ]
  },
  {
   "cell_type": "code",
   "execution_count": 8,
   "id": "487a963f",
   "metadata": {},
   "outputs": [
    {
     "name": "stdout",
     "output_type": "stream",
     "text": [
      "    Unnamed: 0  Plate Cost  Decoration Price  Rating Caterer Name\n",
      "15          15         320              5400     4.8            p\n",
      "   Unnamed: 0  Plate Cost  Decoration Price  Rating Caterer Name\n",
      "6           6         250              4200     3.4            g\n"
     ]
    }
   ],
   "source": [
    "# Decorator Analysis: Identify the decorator with the highest rating. Identify the most cost-effective decorator based on decoration price.\n",
    "# 1. Decorator Analysis:\n",
    "# We start by identifying the decorator with the highest rating and the most cost-effective decorator based on decoration price.\n",
    "# “highest_rated_decorator” stores the decorator with the highest rating, and “cost_effective_decorator” stores the decorator with the lowest decoration price.\n",
    "highest_rated_decorator = df[df['Rating'] == df['Rating'].max()]\n",
    "print(highest_rated_decorator)\n",
    "cost_effective_decorator = df[df['Decoration Price'] == df['Decoration Price'].min()]\n",
    "print(cost_effective_decorator)"
   ]
  },
  {
   "cell_type": "code",
   "execution_count": 9,
   "id": "2cda63f0",
   "metadata": {},
   "outputs": [
    {
     "name": "stdout",
     "output_type": "stream",
     "text": [
      "    Unnamed: 0  Plate Cost  Decoration Price  Rating Caterer Name\n",
      "15          15         320              5400     4.8            p\n",
      "    Unnamed: 0  Plate Cost  Decoration Price  Rating Caterer Name\n",
      "6            6         250              4200     3.4            g\n",
      "12          12         250              5000     4.3            m\n"
     ]
    }
   ],
   "source": [
    "# Caterer Analysis: Identify the caterer with the highest rating. Identify the most cost-effective caterer based on plate cost.\n",
    "# 2. Caterer Analysis:\n",
    "# Similar to decorator analysis, we identify the caterer with the highest rating and the most cost-effective caterer based on plate cost.\n",
    "# “highest_rated_caterer” stores the caterer with the highest rating, and “cost_effective_caterer” stores the caterer with the lowest plate cost.\n",
    "highest_rated_caterer = df[df['Rating'] == df['Rating'].max()]\n",
    "print(highest_rated_caterer)\n",
    "cost_effective_caterer = df[df['Plate Cost'] == df['Plate Cost'].min()]\n",
    "print(cost_effective_caterer)"
   ]
  },
  {
   "cell_type": "code",
   "execution_count": 10,
   "id": "69a1318f",
   "metadata": {},
   "outputs": [
    {
     "name": "stdout",
     "output_type": "stream",
     "text": [
      "The highest-rated decorator is 'p' with a rating of 4.8.\n",
      "The most cost-effective caterer is 'g' with a plate cost of 250.\n"
     ]
    }
   ],
   "source": [
    "# Caterer and Decorator Recommendations: Provide recommendations for selecting the best caterer and decorator based on customer satisfaction (rating)\n",
    "# and cost-effectiveness (plate cost or decoration price).\n",
    "# 3. Caterer and Decorator Recommendations:\n",
    "# We provide recommendations for selecting the best caterer and decorator.\n",
    "# “decorator_recommendation” suggests the highest-rated decorator with their rating.\n",
    "decorator_recommendation = f\"The highest-rated decorator is '{highest_rated_decorator['Caterer Name'].values[0]}' with a rating of {highest_rated_decorator['Rating'].values[0]}.\"\n",
    "print(decorator_recommendation)\n",
    "# “caterer_recommendation” suggests the most cost-effective caterer with their plate cost.\n",
    "caterer_recommendation = f\"The most cost-effective caterer is '{cost_effective_caterer['Caterer Name'].values[0]}' with a plate cost of {cost_effective_caterer['Plate Cost'].values[0]}.\"\n",
    "print(caterer_recommendation)"
   ]
  },
  {
   "cell_type": "code",
   "execution_count": 11,
   "id": "1132b5f4",
   "metadata": {},
   "outputs": [
    {
     "name": "stdout",
     "output_type": "stream",
     "text": [
      "Decorator Analysis:\n",
      "Decorator with Highest Rating:\n",
      "    Unnamed: 0  Plate Cost  Decoration Price  Rating Caterer Name\n",
      "15          15         320              5400     4.8            p\n",
      "\n",
      "Most Cost-Effective Decorator:\n",
      "   Unnamed: 0  Plate Cost  Decoration Price  Rating Caterer Name\n",
      "6           6         250              4200     3.4            g\n",
      "\n",
      "Caterer Analysis:\n",
      "Caterer with Highest Rating:\n",
      "    Unnamed: 0  Plate Cost  Decoration Price  Rating Caterer Name\n",
      "15          15         320              5400     4.8            p\n",
      "\n",
      "Most Cost-Effective Caterer:\n",
      "    Unnamed: 0  Plate Cost  Decoration Price  Rating Caterer Name\n",
      "6            6         250              4200     3.4            g\n",
      "12          12         250              5000     4.3            m\n",
      "\n",
      "Caterer and Decorator Recommendations:\n",
      "The highest-rated decorator is 'p' with a rating of 4.8.\n",
      "The most cost-effective caterer is 'g' with a plate cost of 250.\n"
     ]
    }
   ],
   "source": [
    "# Print the analysis results and recommendations\n",
    "print(\"Decorator Analysis:\")\n",
    "print(\"Decorator with Highest Rating:\")\n",
    "print(highest_rated_decorator)\n",
    "print(\"\\nMost Cost-Effective Decorator:\")\n",
    "print(cost_effective_decorator)\n",
    "print(\"\\nCaterer Analysis:\")\n",
    "print(\"Caterer with Highest Rating:\")\n",
    "print(highest_rated_caterer)\n",
    "print(\"\\nMost Cost-Effective Caterer:\")\n",
    "print(cost_effective_caterer)\n",
    "print(\"\\nCaterer and Decorator Recommendations:\")\n",
    "print(decorator_recommendation)\n",
    "print(caterer_recommendation)"
   ]
  }
 ],
 "metadata": {
  "kernelspec": {
   "display_name": "Python 3 (ipykernel)",
   "language": "python",
   "name": "python3"
  },
  "language_info": {
   "codemirror_mode": {
    "name": "ipython",
    "version": 3
   },
   "file_extension": ".py",
   "mimetype": "text/x-python",
   "name": "python",
   "nbconvert_exporter": "python",
   "pygments_lexer": "ipython3",
   "version": "3.11.5"
  }
 },
 "nbformat": 4,
 "nbformat_minor": 5
}
